{
 "cells": [
  {
   "cell_type": "markdown",
   "metadata": {},
   "source": [
    "# Transform points from pitch to texture and vice-versa\n",
    "### Matrix P - Projection\n",
    "The P matrix is a 3x4 matrix that given a 3D point in the world reference frame, it is projected into the 2D image in **texture coordinate** reference frame, i.e:\n",
    "\n",
    "\\begin{align}\n",
    "p_w & = (x, y, z, 1) \\\\\n",
    "p_p & = (a, b, c) = P * p_w \\\\\n",
    "p_t & = (i,j) = (a/c, b/c)\n",
    "\\end{align}\n",
    "\n",
    "**Texture coordinate range** is [0.0, 1.0]\n",
    "\n",
    "<img src=\"pitch.png\" style=\"width: 400px;\">\n",
    "\n",
    "### Matrix H - Homography\n",
    "The H matrix is a 3x3 Matrix that transforms points from one plane to another. In our case from pitch to texture and from texture to pitch which is the inverse of the first (pitch to texture homography).\n",
    "\n",
    "<img src=\"homo.png\" style=\"width: 400px;\">\n",
    "\n",
    "\\begin{align}\n",
    "texture & = H * pitch \\\\\n",
    "pitch & = inverse(H) * texture\n",
    "\\end{align}\n",
    "\n"
   ]
  },
  {
   "cell_type": "code",
   "execution_count": 162,
   "metadata": {
    "collapsed": true
   },
   "outputs": [],
   "source": [
    "# import what we need\n",
    "import numpy as np\n",
    "import math"
   ]
  },
  {
   "cell_type": "code",
   "execution_count": 163,
   "metadata": {
    "collapsed": true
   },
   "outputs": [],
   "source": [
    "def rodrigues(r):\n",
    "    '''\n",
    "    Rodrigues formula\n",
    "    :param r: 1x3 array of rotations about x, y, and z\n",
    "    :return: the 3x3 rotation matrix\n",
    "    '''\n",
    "    def S(n):\n",
    "        Sn = np.array([\n",
    "            [0.0, -n[2], n[1]],\n",
    "            [n[2], 0.0, -n[0]],\n",
    "            [-n[1], n[0], 0]])\n",
    "        return Sn\n",
    "    theta = np.linalg.norm(r)\n",
    "    if theta > 1e-30:\n",
    "        n = r/theta\n",
    "        Sn = S(n)\n",
    "        R = np.eye(3) + np.sin(theta) * Sn + (1.0 - np.cos(theta)) * np.dot(Sn, Sn)\n",
    "    else:\n",
    "        Sr = S(r)\n",
    "        theta2 = theta ** 2.0\n",
    "        R = np.eye(3) + (1.0 - theta2 / 6.0)*Sr + (0.5 - theta2 / 24.0) * np.dot(Sr, Sr)\n",
    "    return np.mat(R)"
   ]
  },
  {
   "cell_type": "code",
   "execution_count": 164,
   "metadata": {
    "collapsed": true
   },
   "outputs": [],
   "source": [
    "def camera_full_projection_matrix(width, height, zoom, skew, pan, tilt, roll, Tx, Ty, Tz):\n",
    "    \"\"\"\n",
    "    Creates projection matrix P from camera model parameters\n",
    "    :param width: camera image width\n",
    "    :param height: camera image height\n",
    "    :param zoom: camera focal\n",
    "    :param skew:\n",
    "    :param pan:\n",
    "    :param tilt:\n",
    "    :param roll:\n",
    "    :param Tx:\n",
    "    :param Ty:\n",
    "    :param Tz:\n",
    "    :return: the projection Matrix P\n",
    "    \"\"\"\n",
    "    aspect_ratio = float(width)/float(height)\n",
    "    K = np.array([[zoom, skew, 0.5], [0.0, zoom * aspect_ratio, 0.5], [0.0, 0.0, 1.0]])\n",
    "\n",
    "    # Rotation matrix\n",
    "    Rpan = rodrigues(np.array([0.0, 0.0, pan*math.pi/180.0]))\n",
    "    Rtilt = rodrigues(np.array([tilt*math.pi/180.0, 0.0, 0.0]))\n",
    "    Rroll = rodrigues(np.array([0.0, 0.0, roll*math.pi/180.0]))\n",
    "    Mrot = Rroll * Rtilt * Rpan\n",
    "\n",
    "    # Translation vector\n",
    "    t = np.array([Tx, Ty, Tz])\n",
    "    KR = K * Mrot\n",
    "    Kt = np.dot(K, t)\n",
    "\n",
    "    # Projection Martix P\n",
    "    P = np.zeros((3, 4))\n",
    "    P[:, 0] = KR[:, 0].T\n",
    "    P[:, 1] = KR[:, 1].T\n",
    "    P[:, 2] = KR[:, 2].T\n",
    "    P[:, 3] = Kt\n",
    "    return P"
   ]
  },
  {
   "cell_type": "code",
   "execution_count": 165,
   "metadata": {
    "collapsed": true
   },
   "outputs": [],
   "source": [
    "def world_to_texture(pw, P):\n",
    "    \"\"\"\n",
    "    Projects a world point to texture projection plane\n",
    "    :param pw: world point (x, y, z)\n",
    "    :param P: projection matrix P\n",
    "    :return: texture point (i, j)\n",
    "    \"\"\"\n",
    "    pw_h = np.append(pw, 1.0)\n",
    "    pp = P.dot(pw_h)\n",
    "    return np.array([pp[0]/pp[2], pp[1]/pp[2]])"
   ]
  },
  {
   "cell_type": "code",
   "execution_count": 166,
   "metadata": {
    "collapsed": true
   },
   "outputs": [],
   "source": [
    "def homography_pitch_to_texture(P):\n",
    "    \"\"\"\n",
    "    Returns the homografy to transform points from the pitch (world Z=0) to texture image\n",
    "    :param matrixP: Full matrix P\n",
    "    :return: homography_pitch_to_texture matrix\n",
    "    \"\"\"\n",
    "    # delete the 3th column, the z component\n",
    "    return np.delete(P, 2, axis=1) "
   ]
  },
  {
   "cell_type": "code",
   "execution_count": 167,
   "metadata": {
    "collapsed": true
   },
   "outputs": [],
   "source": [
    "def pitch_to_texture(pitch, P):\n",
    "    \"\"\"\n",
    "    Project a point from pitch plane to texture plane\n",
    "    :param pitch: pitch point (x, y)\n",
    "    :param P: projection matrix P\n",
    "    :return: texture point (i, j)\n",
    "    \"\"\"\n",
    "    pitch_h = np.append(pitch, 1.0)\n",
    "    H = homography_pitch_to_texture(P)\n",
    "    transformed = H.dot(pitch_h)\n",
    "    #print(projected)\n",
    "    return np.array([transformed[0]/transformed[2], transformed[1]/transformed[2]])\n",
    "    "
   ]
  },
  {
   "cell_type": "code",
   "execution_count": 168,
   "metadata": {
    "collapsed": true
   },
   "outputs": [],
   "source": [
    "def texture_to_pitch(texture, P):\n",
    "    \"\"\"\n",
    "    Project a point from texture plane to pitch plane\n",
    "    :param texture: texture point (i, j)\n",
    "    :param P: projection matrix P\n",
    "    :return: pitch point (x, y)\n",
    "    \"\"\"\n",
    "    texture_h = np.append(texture, 1.0)\n",
    "    H = homography_pitch_to_texture(P)\n",
    "    Hinv = np.linalg.inv(H)\n",
    "    transformed = Hinv.dot(texture_h)\n",
    "    return np.array([transformed[0]/transformed[2], transformed[1]/transformed[2]])"
   ]
  },
  {
   "cell_type": "markdown",
   "metadata": {},
   "source": [
    "## Testing"
   ]
  },
  {
   "cell_type": "code",
   "execution_count": 169,
   "metadata": {},
   "outputs": [
    {
     "name": "stdout",
     "output_type": "stream",
     "text": [
      "[[  0.85549003   0.91779104  -0.38178799  78.5656145 ]\n",
      " [ -0.21537938  -0.42563355  -2.16061685  29.73643822]\n",
      " [ -0.45199561   0.82127568  -0.34814685  74.498503  ]]\n",
      "\n",
      "world: [-10.   3.   0.]\n",
      "texture: [ 0.89300498  0.37570536]\n",
      "\n",
      "pitch: [-10.   3.]\n",
      "texture: [ 0.89300498  0.37570536]\n",
      "\n",
      "texture: [ 0.89300498  0.37570536]\n",
      "pitch: [-10.   3.]\n"
     ]
    }
   ],
   "source": [
    "# test\n",
    "# test matrixP_from_camera_model\n",
    "camera_model = {\n",
    "    \"width\": 5760,\n",
    "    \"height\": 1080,\n",
    "    \"zoom\": 0.45361389,\n",
    "    \"skew\": 0.0,\n",
    "    \"pan\": -2.0953152,\n",
    "    \"tilt\": 108.76381,\n",
    "    \"roll\": 0.0,\n",
    "    \"Tx\": 0.48063888,\n",
    "    \"Ty\": -0.30635475,\n",
    "    \"Tz\": 87.349004}\n",
    "P = camera_full_projection_matrix(**camera_model)\n",
    "P_expected = np.array([[0.436, 0.4897, -0.1608, 43.893],\n",
    "                      [0.01114, -0.3046, -2.4515, 42.933],\n",
    "                      [-0.03462, 0.9462, -0.3217, 87.349]])\n",
    "assert(np.allclose(P, P_expected, rtol=1e-3))\n",
    "\n",
    "# ML\n",
    "camera_model = {\n",
    "    \"width\": 1920,\n",
    "    \"height\": 1080,\n",
    "    \"zoom\": 1.2124214,\n",
    "    \"skew\": 0.0,\n",
    "    \"pan\": -28.826538,\n",
    "    \"tilt\": 110.37401,\n",
    "    \"roll\": -10.530287,\n",
    "    \"Tx\": 34.07756,\n",
    "    \"Ty\": -3.4855517,\n",
    "    \"Tz\": 74.498503}\n",
    "P = camera_full_projection_matrix(**camera_model)\n",
    "print(P)\n",
    "P_expected = np.array([[0.8555, 0.9178, -0.3818, 78.566],\n",
    "                      [-0.2154, -0.4256, -2.1606, 29.736],\n",
    "                      [-0.452, 0.8213, -0.3481, 74.499]])\n",
    "assert(np.allclose(P, P_expected, rtol=1e-3))\n",
    "\n",
    "print()\n",
    "# project world point\n",
    "x = -10.0\n",
    "y = 3.0\n",
    "world = np.array([x, y, 0.0])\n",
    "print(\"world: {}\".format(world))\n",
    "texture = world_to_texture(world, P)\n",
    "print(\"texture: {}\".format(texture))\n",
    "\"\"\"\n",
    "if (texture > 1.0).any() or (texture < 0.0).any():\n",
    "    print(\"point is out the texture limits\")\n",
    "else:\n",
    "    print(\"point is in the texture limits\")\n",
    "\"\"\"\n",
    "\n",
    "print()\n",
    "# transform point from pitch to texture plane\n",
    "pitch = np.array([x, y])\n",
    "print(\"pitch: {}\".format(pitch))\n",
    "texture = pitch_to_texture(pitch, P)\n",
    "print(\"texture: {}\".format(texture))\n",
    "\n",
    "print()\n",
    "# transform point from texture to pitch\n",
    "print(\"texture: {}\".format(texture))\n",
    "pitch = texture_to_pitch(texture, P)\n",
    "print(\"pitch: {}\".format(pitch))\n",
    "\n"
   ]
  },
  {
   "cell_type": "markdown",
   "metadata": {},
   "source": [
    "# End"
   ]
  },
  {
   "cell_type": "code",
   "execution_count": 171,
   "metadata": {},
   "outputs": [
    {
     "name": "stdout",
     "output_type": "stream",
     "text": [
      "[[  0.8250794    0.9120803   -0.38269407  76.68243654]\n",
      " [ -0.22463131  -0.41117778  -2.11752907  28.79170901]\n",
      " [ -0.45903625   0.81814751  -0.34629521  72.705141  ]]\n"
     ]
    }
   ],
   "source": [
    "# test matrixP_from_camera_model\n",
    "camera_model = {\n",
    "    \"width\": 1920,\n",
    "    \"height\": 1080,\n",
    "    \"zoom\": 1.1870557,\n",
    "    \"skew\": 0.0,\n",
    "    \"pan\": -29.295381,\n",
    "    \"tilt\": 110.26088,\n",
    "    \"roll\": -10.845953,\n",
    "    \"Tx\": 33.974704,\n",
    "    \"Ty\": -3.5828012,\n",
    "    \"Tz\": 72.705141}\n",
    "P = camera_full_projection_matrix(**camera_model)\n",
    "print(P)"
   ]
  },
  {
   "cell_type": "code",
   "execution_count": 172,
   "metadata": {},
   "outputs": [
    {
     "name": "stdout",
     "output_type": "stream",
     "text": [
      "[[  1.32922926e+00   5.00963792e-01  -1.89475605e-01   3.90236639e+01]\n",
      " [  3.60216954e-02  -4.99518453e-01  -2.38742906e+00   2.85847442e+01]\n",
      " [ -2.61082052e-02   9.15538926e-01  -4.01381162e-01   8.04643990e+01]]\n"
     ]
    }
   ],
   "source": [
    "# test matrixP_from_camera_model\n",
    "camera_model = {\n",
    "    \"width\": 1920,\n",
    "    \"height\": 1080,\n",
    "    \"zoom\": 1.343025,\n",
    "    \"skew\": 0.0,\n",
    "    \"pan\": -1.6334474,\n",
    "    \"tilt\": 113.66455,\n",
    "    \"roll\": 0.52238362,\n",
    "    \"Tx\": -0.89986081,\n",
    "    \"Ty\": -4.878311,\n",
    "    \"Tz\": 80.464399}\n",
    "P = camera_full_projection_matrix(**camera_model)\n",
    "print(P)"
   ]
  },
  {
   "cell_type": "code",
   "execution_count": 173,
   "metadata": {},
   "outputs": [
    {
     "name": "stdout",
     "output_type": "stream",
     "text": [
      "[[  1.27412007e+00   8.71037377e-03   1.92038151e-02  -3.22925824e+00]\n",
      " [  2.30460347e-01  -3.93028116e-01  -2.09389290e+00   2.84925830e+01]\n",
      " [  3.91975382e-01   8.48740315e-01  -3.54957995e-01   7.34383640e+01]]\n"
     ]
    }
   ],
   "source": [
    "# test matrixP_from_camera_model\n",
    "camera_model = {\n",
    "    \"width\": 1920,\n",
    "    \"height\": 1080,\n",
    "    \"zoom\": 1.1721035,\n",
    "    \"skew\": 0.0,\n",
    "    \"pan\": 24.789001,\n",
    "    \"tilt\": 110.79087,\n",
    "    \"roll\": 10.340134,\n",
    "    \"Tx\": -34.08269,\n",
    "    \"Ty\": -3.9479977,\n",
    "    \"Tz\": 73.438364}\n",
    "P = camera_full_projection_matrix(**camera_model)\n",
    "print(P)"
   ]
  }
 ],
 "metadata": {
  "kernelspec": {
   "display_name": "Python 3",
   "language": "python",
   "name": "python3"
  },
  "language_info": {
   "codemirror_mode": {
    "name": "ipython",
    "version": 3
   },
   "file_extension": ".py",
   "mimetype": "text/x-python",
   "name": "python",
   "nbconvert_exporter": "python",
   "pygments_lexer": "ipython3",
   "version": "3.5.3"
  }
 },
 "nbformat": 4,
 "nbformat_minor": 2
}
