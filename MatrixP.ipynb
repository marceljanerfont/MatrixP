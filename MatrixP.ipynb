{
 "cells": [
  {
   "cell_type": "markdown",
   "metadata": {},
   "source": [
    "## How to get Matrix P from camera model parameters"
   ]
  },
  {
   "cell_type": "code",
   "execution_count": 1,
   "metadata": {
    "collapsed": true
   },
   "outputs": [],
   "source": [
    "import numpy as np\n",
    "import math"
   ]
  },
  {
   "cell_type": "code",
   "execution_count": 2,
   "metadata": {
    "collapsed": true
   },
   "outputs": [],
   "source": [
    "def rodrigues(r):\n",
    "    '''Rodrigues formula\n",
    "    Input: 1x3 array of rotations about x, y, and z\n",
    "    Output: 3x3 rotation matrix'''\n",
    "    def S(n):\n",
    "        Sn = np.array([\n",
    "            [0, -n[2], n[1]],\n",
    "            [n[2], 0, -n[0]],\n",
    "            [-n[1], n[0], 0]])\n",
    "        return Sn\n",
    "    theta = np.linalg.norm(r)\n",
    "    if theta > 1e-30:\n",
    "        n = r/theta\n",
    "        Sn = S(n)\n",
    "        R = np.eye(3) + np.sin(theta)*Sn + (1-np.cos(theta))*np.dot(Sn, Sn)\n",
    "    else:\n",
    "        Sr = S(r)\n",
    "        theta2 = theta**2\n",
    "        R = np.eye(3) + (1 - theta2 / 6.)*Sr + (.5 - theta2 / 24.) * np.dot(Sr, Sr)\n",
    "    return np.mat(R)"
   ]
  },
  {
   "cell_type": "code",
   "execution_count": null,
   "metadata": {
    "collapsed": true
   },
   "outputs": [],
   "source": [
    "def matrixP_from_camera_model(height, width, zoom, skew, pan, tilt, roll, Tx, Ty, Tz):\n",
    "    \"\"\"\n",
    "    Creates projection matrix P from camera model parameters\n",
    "    :param height: camera image height\n",
    "    :param width: camera image width\n",
    "    :param zoom: camera focal\n",
    "    :param skew:\n",
    "    :param pan:\n",
    "    :param tilt:\n",
    "    :param roll:\n",
    "    :param Tx:\n",
    "    :param Ty:\n",
    "    :param Tz:\n",
    "    :return: the projection Matrix P\n",
    "    \n",
    "    \"\"\"\n",
    "    aspect_ratio = float(width)/float(height)\n",
    "    K = np.array([[Zoom, Skew, 0.5], [0.0, Zoom * AspectRatio, 0.5], [0.0, 0.0, 1.0]])\n",
    "\n",
    "    # Rotation matrix\n",
    "    Rpan = rodrigues(np.array([0.0, 0.0, pan*math.pi/180.0]))\n",
    "    Rtilt = rodrigues(np.array([tilt*math.pi/180.0, 0.0, 0.0]))\n",
    "    Rroll = rodrigues(np.array([0.0, 0.0, roll*math.pi/180.0]))\n",
    "    Mrot = Rroll * Rtilt * Rpan\n",
    "\n",
    "    # Translation vector\n",
    "    t = np.array([Tx, Ty, Tz])\n",
    "    KR = K * Mrot\n",
    "    Kt = np.dot(K, t)\n",
    "\n",
    "    # Projection Martix\n",
    "    Rproj = np.zeros((3, 4))\n",
    "    Rproj[:, 0] = KR[:, 0].T\n",
    "    Rproj[:, 1] = KR[:, 1].T\n",
    "    Rproj[:, 2] = KR[:, 2].T\n",
    "    Rproj[:, 3] = Kt\n",
    "\n"
   ]
  }
 ],
 "metadata": {
  "kernelspec": {
   "display_name": "Python 3",
   "language": "python",
   "name": "python3"
  },
  "language_info": {
   "codemirror_mode": {
    "name": "ipython",
    "version": 3
   },
   "file_extension": ".py",
   "mimetype": "text/x-python",
   "name": "python",
   "nbconvert_exporter": "python",
   "pygments_lexer": "ipython3",
   "version": "3.5.3"
  }
 },
 "nbformat": 4,
 "nbformat_minor": 2
}
