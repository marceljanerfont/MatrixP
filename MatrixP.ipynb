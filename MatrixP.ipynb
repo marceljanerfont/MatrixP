{
 "cells": [
  {
   "cell_type": "markdown",
   "metadata": {},
   "source": [
    "## How to get Matrix P from camera model parameters\n",
    "The P matrix is a 3x4 matrix that given a 3D point in the world reference frame, it is projected into the 2D image reference frame, i.e:\n",
    "\n",
    "\\begin{align}\n",
    "p_w & = (x, y, z, 1) \\\\\n",
    "p_p & = (a, b, c) = P * p_w \\\\\n",
    "p_t & = (i,j) = (a/c, b/c)\n",
    "\\end{align}\n"
   ]
  },
  {
   "cell_type": "code",
   "execution_count": 5,
   "metadata": {
    "collapsed": true
   },
   "outputs": [],
   "source": [
    "import numpy as np\n",
    "import math"
   ]
  },
  {
   "cell_type": "code",
   "execution_count": 31,
   "metadata": {
    "collapsed": true
   },
   "outputs": [],
   "source": [
    "def rodrigues(r):\n",
    "    '''\n",
    "    Rodrigues formula\n",
    "    :param r: 1x3 array of rotations about x, y, and z\n",
    "    :return: the 3x3 rotation matrix\n",
    "    '''\n",
    "    def S(n):\n",
    "        Sn = np.array([\n",
    "            [0.0, -n[2], n[1]],\n",
    "            [n[2], 0.0, -n[0]],\n",
    "            [-n[1], n[0], 0]])\n",
    "        return Sn\n",
    "    theta = np.linalg.norm(r)\n",
    "    if theta > 1e-30:\n",
    "        n = r/theta\n",
    "        Sn = S(n)\n",
    "        R = np.eye(3) + np.sin(theta)*Sn + (1.0-np.cos(theta))*np.dot(Sn, Sn)\n",
    "    else:\n",
    "        Sr = S(r)\n",
    "        theta2 = theta**2.0\n",
    "        R = np.eye(3) + (1.0 - theta2 / 6.0)*Sr + (0.5 - theta2 / 24.0) * np.dot(Sr, Sr)\n",
    "    return np.mat(R)"
   ]
  },
  {
   "cell_type": "code",
   "execution_count": 34,
   "metadata": {
    "collapsed": true
   },
   "outputs": [],
   "source": [
    "def camera_full_projection_matrix(width, height, zoom, skew, pan, tilt, roll, Tx, Ty, Tz):\n",
    "    \"\"\"\n",
    "    Creates projection matrix P from camera model parameters\n",
    "    :param width: camera image width\n",
    "    :param height: camera image height\n",
    "    :param zoom: camera focal\n",
    "    :param skew:\n",
    "    :param pan:\n",
    "    :param tilt:\n",
    "    :param roll:\n",
    "    :param Tx:\n",
    "    :param Ty:\n",
    "    :param Tz:\n",
    "    :return: the projection Matrix P\n",
    "    \"\"\"\n",
    "    aspect_ratio = float(width)/float(height)\n",
    "    K = np.array([[zoom, skew, 0.5], [0.0, zoom * aspect_ratio, 0.5], [0.0, 0.0, 1.0]])\n",
    "\n",
    "    # Rotation matrix\n",
    "    Rpan = rodrigues(np.array([0.0, 0.0, pan*math.pi/180.0]))\n",
    "    Rtilt = rodrigues(np.array([tilt*math.pi/180.0, 0.0, 0.0]))\n",
    "    Rroll = rodrigues(np.array([0.0, 0.0, roll*math.pi/180.0]))\n",
    "    Mrot = Rroll * Rtilt * Rpan\n",
    "\n",
    "    # Translation vector\n",
    "    t = np.array([Tx, Ty, Tz])\n",
    "    KR = K * Mrot\n",
    "    Kt = np.dot(K, t)\n",
    "\n",
    "    # Projection Martix P\n",
    "    P = np.zeros((3, 4))\n",
    "    P[:, 0] = KR[:, 0].T\n",
    "    P[:, 1] = KR[:, 1].T\n",
    "    P[:, 2] = KR[:, 2].T\n",
    "    P[:, 3] = Kt\n",
    "    return P"
   ]
  },
  {
   "cell_type": "code",
   "execution_count": 88,
   "metadata": {
    "collapsed": true
   },
   "outputs": [],
   "source": [
    "def project_world_point(pw, matrixP):\n",
    "    pw_h = np.append(pw, 1.0)\n",
    "    pp = matrixP.dot(pw_h)\n",
    "    return np.array([pp[0]/pp[2], pp[1]/pp[2]])"
   ]
  },
  {
   "cell_type": "code",
   "execution_count": 89,
   "metadata": {},
   "outputs": [
    {
     "name": "stdout",
     "output_type": "stream",
     "text": [
      "[[  4.36001186e-01   4.89694804e-01  -1.60833847e-01   4.38925265e+01]\n",
      " [  1.11432197e-02  -3.04572226e-01  -2.45152986e+00   4.29333459e+01]\n",
      " [ -3.46188241e-02   9.46219547e-01  -3.21667695e-01   8.73490040e+01]]\n"
     ]
    }
   ],
   "source": [
    "# test matrixP_from_camera_model\n",
    "camera_model = {\n",
    "    \"width\": 5760,\n",
    "    \"height\": 1080,\n",
    "    \"zoom\": 0.45361389,\n",
    "    \"skew\": 0.0,\n",
    "    \"pan\": -2.0953152,\n",
    "    \"tilt\": 108.76381,\n",
    "    \"roll\": 0.0,\n",
    "    \"Tx\": 0.48063888,\n",
    "    \"Ty\": -0.30635475,\n",
    "    \"Tz\": 87.349004}\n",
    "P = camera_full_projection_matrix(**camera_model)\n",
    "print(P)\n",
    "P_expected = np.array([[0.436, 0.4897, -0.1608, 43.893],\n",
    "                      [0.01114, -0.3046, -2.4515, 42.933],\n",
    "                      [-0.03462, 0.9462, -0.3217, 87.349]])\n",
    "assert(np.allclose(P, P_expected, rtol=1e-3))"
   ]
  },
  {
   "cell_type": "code",
   "execution_count": 90,
   "metadata": {},
   "outputs": [
    {
     "name": "stdout",
     "output_type": "stream",
     "text": [
      "[[  0.85549003   0.91779104  -0.38178799  78.5656145 ]\n",
      " [ -0.21537938  -0.42563355  -2.16061685  29.73643822]\n",
      " [ -0.45199561   0.82127568  -0.34814685  74.498503  ]]\n",
      "[ 1.0545932   0.39915484]\n"
     ]
    }
   ],
   "source": [
    "# test matrixP_from_camera_model\n",
    "# ML\n",
    "camera_model = {\n",
    "    \"width\": 1920,\n",
    "    \"height\": 1080,\n",
    "    \"zoom\": 1.2124214,\n",
    "    \"skew\": 0.0,\n",
    "    \"pan\": -28.826538,\n",
    "    \"tilt\": 110.37401,\n",
    "    \"roll\": -10.530287,\n",
    "    \"Tx\": 34.07756,\n",
    "    \"Ty\": -3.4855517,\n",
    "    \"Tz\": 74.498503}\n",
    "P = camera_full_projection_matrix(**camera_model)\n",
    "print(P)\n",
    "P_expected = np.array([[0.8555, 0.9178, -0.3818, 78.566],\n",
    "                      [-0.2154, -0.4256, -2.1606, 29.736],\n",
    "                      [-0.452, 0.8213, -0.3481, 74.499]])\n",
    "assert(np.allclose(P, P_expected, rtol=1e-3))\n",
    "\n",
    "# project world point\n",
    "pw = np.array([0.0, 0.0, 0.0])\n",
    "pt = project_world_point(pw, P)\n",
    "print(pt)\n"
   ]
  },
  {
   "cell_type": "code",
   "execution_count": 87,
   "metadata": {},
   "outputs": [
    {
     "data": {
      "text/plain": [
       "0.0"
      ]
     },
     "execution_count": 87,
     "metadata": {},
     "output_type": "execute_result"
    }
   ],
   "source": [
    "pw = np.array([0.0, 0.0, 0.0])\n",
    "pw[0]"
   ]
  },
  {
   "cell_type": "code",
   "execution_count": null,
   "metadata": {
    "collapsed": true
   },
   "outputs": [],
   "source": []
  }
 ],
 "metadata": {
  "kernelspec": {
   "display_name": "Python 3",
   "language": "python",
   "name": "python3"
  },
  "language_info": {
   "codemirror_mode": {
    "name": "ipython",
    "version": 3
   },
   "file_extension": ".py",
   "mimetype": "text/x-python",
   "name": "python",
   "nbconvert_exporter": "python",
   "pygments_lexer": "ipython3",
   "version": "3.5.3"
  }
 },
 "nbformat": 4,
 "nbformat_minor": 2
}
